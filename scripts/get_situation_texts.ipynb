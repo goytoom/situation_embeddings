{
 "cells": [
  {
   "cell_type": "code",
   "execution_count": 141,
   "id": "42e50e01-2de3-4401-ad20-d00ca0763952",
   "metadata": {},
   "outputs": [
    {
     "name": "stderr",
     "output_type": "stream",
     "text": [
      "[nltk_data] Downloading package words to /home/sabdurah/nltk_data...\n",
      "[nltk_data]   Package words is already up-to-date!\n"
     ]
    }
   ],
   "source": [
    "import pandas as pd\n",
    "import re\n",
    "import nltk\n",
    "nltk.download('words')\n",
    "from nltk.corpus import words\n",
    "from nltk.tokenize import word_tokenize\n",
    "from pathlib import Path\n",
    "\n",
    "\n",
    "def is_valid_word_or_sentence(s):\n",
    "    tokenized_sents = word_tokenize(s)\n",
    "    return any([x.lower() in words.words() for x in tokenized_sents])\n",
    "\n",
    "def is_valid(s):\n",
    "    # Check if the string is not empty, contains letters, and has at least 3 letters\n",
    "    return bool(s) and bool(re.search('[a-zA-Z]', s)) and len(re.findall('[a-zA-Z]', s)) >= 3"
   ]
  },
  {
   "cell_type": "markdown",
   "id": "6c7a002a-5eb9-4c6e-a783-47ec9f14213b",
   "metadata": {},
   "source": [
    "## Get item Texts"
   ]
  },
  {
   "cell_type": "code",
   "execution_count": 146,
   "id": "91fb4ebd-655d-4127-9b56-7235ad5b14a5",
   "metadata": {},
   "outputs": [
    {
     "data": {
      "text/plain": [
       "'../embeddings/final/Situations/'"
      ]
     },
     "execution_count": 146,
     "metadata": {},
     "output_type": "execute_result"
    }
   ],
   "source": [
    "\"../embeddings/{}/Situations/\".format(folder)"
   ]
  },
  {
   "cell_type": "code",
   "execution_count": 155,
   "id": "0f40d2f8-79c4-4a3d-84c7-16bd7d147608",
   "metadata": {},
   "outputs": [],
   "source": [
    "folder = \"final\"\n",
    "Path(\"../embeddings/{}/Situations/\".format(folder)).mkdir(exist_ok=True, parents=True)"
   ]
  },
  {
   "cell_type": "code",
   "execution_count": 156,
   "id": "e5dc0945-fd09-413f-ab6a-1282cee3535d",
   "metadata": {},
   "outputs": [
    {
     "name": "stderr",
     "output_type": "stream",
     "text": [
      "/home/sabdurah/anaconda3/envs/textgen/lib/python3.10/site-packages/IPython/core/interactiveshell.py:3284: DtypeWarning: Columns (0,4,5,8,11,12,13,22,23,24,25,26,27,28,52,53,54,55,56,67,68,69,70,71,72,73,74,75,295,296,297,298,299,300,301,302,303,304,305,306,307,308,309,310,311,312,315,316,317,318,319,320,321,322,323,324,325,347,348,349,350,351,352,353,354,355,356,357,358,359,360,361,362,363,364) have mixed types.Specify dtype option on import or set low_memory=False.\n",
      "  has_raised = await self.run_ast_nodes(code_ast.body, cell_name,\n"
     ]
    }
   ],
   "source": [
    "path = \"../../Situations/raw_data/\"\n",
    "if folder==\"seven\":\n",
    "    path_end = \"world_at_seven.csv\"\n",
    "    cols_sit = [\"response translated in English\"]\n",
    "    cols_name = 'rsq'\n",
    "else:\n",
    "    path_end = \"final_dataset.csv\"\n",
    "    cols_sit = [\"WhatResponse.English.Translation\", \"WhereResponse.English.Translation\", \"WhoResponse.English.Translation\"]\n",
    "    cols_name = 'NineCat_rsq'\n",
    "\n",
    "path_raw = path + path_end\n",
    "df_raw = pd.read_csv(path_raw)\n",
    "df_raw['situation'] = df_raw[cols_sit].apply(lambda x: ' '.join(x.dropna().astype(str)), axis=1)\n",
    "df_raw = df_raw[df_raw['situation'].apply(is_valid)] #filter out situations that are non words\n",
    "\n",
    "cols_resp = [col for col in df_raw.columns if cols_name in col]"
   ]
  },
  {
   "cell_type": "code",
   "execution_count": 157,
   "id": "e5f8dab7-26af-4464-925d-b7b738f22c30",
   "metadata": {},
   "outputs": [],
   "source": [
    "df = df_raw[['situation'] + cols_resp]\n",
    "df = df.dropna(subset=cols_resp).reset_index(drop=True) #drop columns with missing ratings\\\n",
    "situation_id = [\"sit_\" + str(x+1) for x in range(df.shape[0])]\n",
    "df.insert(0, \"situation_id\", situation_id)"
   ]
  },
  {
   "cell_type": "code",
   "execution_count": 159,
   "id": "eccbc8b1-3b16-413a-b480-6c25ef678edf",
   "metadata": {},
   "outputs": [],
   "source": [
    "df.to_csv(\"../embeddings/{}/Situations/rsq_situations_text.csv\".format(folder), index=False)"
   ]
  }
 ],
 "metadata": {
  "kernelspec": {
   "display_name": "Python 3 (ipykernel)",
   "language": "python",
   "name": "python3"
  },
  "language_info": {
   "codemirror_mode": {
    "name": "ipython",
    "version": 3
   },
   "file_extension": ".py",
   "mimetype": "text/x-python",
   "name": "python",
   "nbconvert_exporter": "python",
   "pygments_lexer": "ipython3",
   "version": "3.10.9"
  }
 },
 "nbformat": 4,
 "nbformat_minor": 5
}
