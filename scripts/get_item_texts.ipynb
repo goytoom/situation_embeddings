{
 "cells": [
  {
   "cell_type": "code",
   "execution_count": 4,
   "id": "42e50e01-2de3-4401-ad20-d00ca0763952",
   "metadata": {},
   "outputs": [],
   "source": [
    "import pandas as pd\n",
    "import re"
   ]
  },
  {
   "cell_type": "markdown",
   "id": "6c7a002a-5eb9-4c6e-a783-47ec9f14213b",
   "metadata": {},
   "source": [
    "## Get item Texts"
   ]
  },
  {
   "cell_type": "code",
   "execution_count": 13,
   "id": "0f40d2f8-79c4-4a3d-84c7-16bd7d147608",
   "metadata": {},
   "outputs": [],
   "source": [
    "d = \"RSQ\"\n",
    "d = d.upper()\n",
    "folder = \"seven\""
   ]
  },
  {
   "cell_type": "code",
   "execution_count": 14,
   "id": "e5f8dab7-26af-4464-925d-b7b738f22c30",
   "metadata": {},
   "outputs": [],
   "source": [
    "lines = []\n",
    "with open(f\"../embeddings/{folder}/{d}/questions.txt\",'r') as f:\n",
    "    for line in f:\n",
    "        # Remove the newline character at the end of the line\n",
    "        line = line.strip()\n",
    "        line = re.sub(\"[0-9]+\\.\\s\", \"\", line)\n",
    "\n",
    "        # Append the line to the list\n",
    "        lines.append(line)"
   ]
  },
  {
   "cell_type": "code",
   "execution_count": 15,
   "id": "eccbc8b1-3b16-413a-b480-6c25ef678edf",
   "metadata": {},
   "outputs": [],
   "source": [
    "df = pd.DataFrame({\"question_id\": [\"{:s}{:03d}\".format(d.lower(), i+1) for i in range(len(lines))], \"item\": lines})\n",
    "df.to_csv(\"../embeddings/{}/{}/{}_questions_text.csv\".format(folder, d.upper(), d.lower()), index=False)"
   ]
  },
  {
   "cell_type": "code",
   "execution_count": 16,
   "id": "10af48b3-68ff-4631-8e9d-48e743e536a7",
   "metadata": {},
   "outputs": [
    {
     "data": {
      "text/html": [
       "<div>\n",
       "<style scoped>\n",
       "    .dataframe tbody tr th:only-of-type {\n",
       "        vertical-align: middle;\n",
       "    }\n",
       "\n",
       "    .dataframe tbody tr th {\n",
       "        vertical-align: top;\n",
       "    }\n",
       "\n",
       "    .dataframe thead th {\n",
       "        text-align: right;\n",
       "    }\n",
       "</style>\n",
       "<table border=\"1\" class=\"dataframe\">\n",
       "  <thead>\n",
       "    <tr style=\"text-align: right;\">\n",
       "      <th></th>\n",
       "      <th>question_id</th>\n",
       "      <th>item</th>\n",
       "    </tr>\n",
       "  </thead>\n",
       "  <tbody>\n",
       "    <tr>\n",
       "      <th>0</th>\n",
       "      <td>rsq001</td>\n",
       "      <td>Situation is potentially enjoyable.</td>\n",
       "    </tr>\n",
       "    <tr>\n",
       "      <th>1</th>\n",
       "      <td>rsq002</td>\n",
       "      <td>Situation is complex.</td>\n",
       "    </tr>\n",
       "    <tr>\n",
       "      <th>2</th>\n",
       "      <td>rsq003</td>\n",
       "      <td>A job needs to be done.</td>\n",
       "    </tr>\n",
       "    <tr>\n",
       "      <th>3</th>\n",
       "      <td>rsq004</td>\n",
       "      <td>Someone is trying to impress P.</td>\n",
       "    </tr>\n",
       "    <tr>\n",
       "      <th>4</th>\n",
       "      <td>rsq005</td>\n",
       "      <td>Someone is trying to convince P of something.</td>\n",
       "    </tr>\n",
       "    <tr>\n",
       "      <th>...</th>\n",
       "      <td>...</td>\n",
       "      <td>...</td>\n",
       "    </tr>\n",
       "    <tr>\n",
       "      <th>84</th>\n",
       "      <td>rsq085</td>\n",
       "      <td>People who are present occupy different social...</td>\n",
       "    </tr>\n",
       "    <tr>\n",
       "      <th>85</th>\n",
       "      <td>rsq086</td>\n",
       "      <td>P is being pressured to conform to the actions...</td>\n",
       "    </tr>\n",
       "    <tr>\n",
       "      <th>86</th>\n",
       "      <td>rsq087</td>\n",
       "      <td>Success requires cooperation.</td>\n",
       "    </tr>\n",
       "    <tr>\n",
       "      <th>87</th>\n",
       "      <td>rsq088</td>\n",
       "      <td>P is being complimented or praised.</td>\n",
       "    </tr>\n",
       "    <tr>\n",
       "      <th>88</th>\n",
       "      <td>rsq089</td>\n",
       "      <td>Affords an opportunity to express femininity.</td>\n",
       "    </tr>\n",
       "  </tbody>\n",
       "</table>\n",
       "<p>89 rows × 2 columns</p>\n",
       "</div>"
      ],
      "text/plain": [
       "   question_id                                               item\n",
       "0       rsq001                Situation is potentially enjoyable.\n",
       "1       rsq002                              Situation is complex.\n",
       "2       rsq003                            A job needs to be done.\n",
       "3       rsq004                    Someone is trying to impress P.\n",
       "4       rsq005      Someone is trying to convince P of something.\n",
       "..         ...                                                ...\n",
       "84      rsq085  People who are present occupy different social...\n",
       "85      rsq086  P is being pressured to conform to the actions...\n",
       "86      rsq087                      Success requires cooperation.\n",
       "87      rsq088                P is being complimented or praised.\n",
       "88      rsq089      Affords an opportunity to express femininity.\n",
       "\n",
       "[89 rows x 2 columns]"
      ]
     },
     "execution_count": 16,
     "metadata": {},
     "output_type": "execute_result"
    }
   ],
   "source": [
    "df"
   ]
  }
 ],
 "metadata": {
  "kernelspec": {
   "display_name": "Python 3 (ipykernel)",
   "language": "python",
   "name": "python3"
  },
  "language_info": {
   "codemirror_mode": {
    "name": "ipython",
    "version": 3
   },
   "file_extension": ".py",
   "mimetype": "text/x-python",
   "name": "python",
   "nbconvert_exporter": "python",
   "pygments_lexer": "ipython3",
   "version": "3.10.9"
  }
 },
 "nbformat": 4,
 "nbformat_minor": 5
}
