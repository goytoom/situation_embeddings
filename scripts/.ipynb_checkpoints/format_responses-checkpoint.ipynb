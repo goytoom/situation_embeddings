{
 "cells": [
  {
   "cell_type": "code",
   "execution_count": 64,
   "id": "1b10913f-b6ca-48cd-b311-defa612745f6",
   "metadata": {},
   "outputs": [],
   "source": [
    "import pandas as pd\n",
    "import numpy as np\n",
    "import csv\n",
    "\n",
    "min_value = 0\n",
    "max_value = 10\n",
    "\n",
    "def validate_and_convert(value):\n",
    "    # Convert to float and check if within the specified range\n",
    "    try:\n",
    "        float_value = float(value)\n",
    "        if min_value <= float_value <= max_value:\n",
    "            return float_value\n",
    "    except ValueError:\n",
    "        pass\n",
    "    # Return NaN for invalid or out-of-range values\n",
    "    return pd.NA"
   ]
  },
  {
   "cell_type": "markdown",
   "id": "df7b0e83-eb1b-4e9f-a443-0cb61c313f70",
   "metadata": {},
   "source": [
    "## Load data and reformat"
   ]
  },
  {
   "cell_type": "code",
   "execution_count": 78,
   "id": "e0ee862c-8d49-49e7-b6c1-b2b3a53266e1",
   "metadata": {
    "scrolled": true
   },
   "outputs": [],
   "source": [
    "# df_final = pd.read_csv(\"../../final_data2.csv\", encoding=\"utf-8\", sep=\",\")\n",
    "# df_final.iloc[:, :371].to_csv(\"../../final_dataset.csv\", index=False)"
   ]
  },
  {
   "cell_type": "code",
   "execution_count": 46,
   "id": "01438ecc-f974-4f3e-8fc5-4ae3285685d1",
   "metadata": {},
   "outputs": [
    {
     "name": "stderr",
     "output_type": "stream",
     "text": [
      "/home/sabdurah/anaconda3/envs/textgen/lib/python3.10/site-packages/IPython/core/interactiveshell.py:3284: DtypeWarning: Columns (0,4,5,8,11,12,13,22,23,24,25,26,27,28,52,53,54,55,56,67,68,69,70,71,72,73,74,75,295,296,297,298,299,300,301,302,303,304,305,306,307,308,309,310,311,312,315,316,317,318,319,320,321,322,323,324,325,347,348,349,350,351,352,353,354,355,356,357,358,359,360,361,362,363,364) have mixed types.Specify dtype option on import or set low_memory=False.\n",
      "  has_raised = await self.run_ast_nodes(code_ast.body, cell_name,\n"
     ]
    }
   ],
   "source": [
    "df_final = pd.read_csv(\"../../final_dataset.csv\", encoding=\"utf-8\", sep=\",\")"
   ]
  },
  {
   "cell_type": "code",
   "execution_count": 47,
   "id": "010e462d-6745-4683-b6ba-1b21d3376941",
   "metadata": {},
   "outputs": [
    {
     "name": "stderr",
     "output_type": "stream",
     "text": [
      "/home/sabdurah/anaconda3/envs/textgen/lib/python3.10/site-packages/IPython/core/interactiveshell.py:3284: DtypeWarning: Columns (18,19) have mixed types.Specify dtype option on import or set low_memory=False.\n",
      "  has_raised = await self.run_ast_nodes(code_ast.body, cell_name,\n"
     ]
    }
   ],
   "source": [
    "df_seven = pd.read_csv(\"../../world_at_seven.csv\")"
   ]
  },
  {
   "cell_type": "markdown",
   "id": "22e4f430-333a-4352-9d5b-b2859108d1e4",
   "metadata": {},
   "source": [
    "## Save responses"
   ]
  },
  {
   "cell_type": "code",
   "execution_count": 68,
   "id": "5f67e68a-35b1-42e0-9a1d-68435703d77b",
   "metadata": {},
   "outputs": [],
   "source": [
    "cols_rsq = [col for col in df_seven.columns if 'rsq' in col]\n",
    "df_seven_rsq_save = df_seven[cols_rsq].dropna(how='all').T # remove empty rows\n",
    "df_seven_rsq_save.insert(0, \"question_id\", df_seven_rsq_save.index)\n",
    "items_rsq = pd.read_csv(\"../embeddings/seven/RSQ/rsq_questions_text.csv\").iloc[:,:-1]\n",
    "df_seven_rsq_save = items_rsq.merge(df_seven_rsq_save, on=\"question_id\").iloc[:, :-1] #remove last column (only NaN)\n",
    "\n",
    "columns_to_process = df_seven_rsq_save.columns[2:]\n",
    "df_seven_rsq_save[columns_to_process] = df_seven_rsq_save[columns_to_process].applymap(validate_and_convert)\n",
    "\n",
    "df_seven_rsq_save.to_csv(\"../embeddings/seven/RSQ/rsq_responses_nonReversed.csv\", index=False)"
   ]
  },
  {
   "cell_type": "code",
   "execution_count": 70,
   "id": "b741dbd6-12a7-45e2-b9b9-b04d1dd10270",
   "metadata": {},
   "outputs": [],
   "source": [
    "cols_rbq = [col for col in df_seven.columns if 'rbq' in col]\n",
    "df_seven_rbq_save = df_seven[cols_rbq].dropna(how='all').T\n",
    "df_seven_rbq_save.insert(0, \"question_id\", df_seven_rbq_save.index)\n",
    "items_rbq = pd.read_csv(\"../embeddings/seven/RBQ/rbq_questions_text.csv\").iloc[:,:-1]\n",
    "df_seven_rbq_save = items_rbq.merge(df_seven_rbq_save, on=\"question_id\").iloc[:, :-1] #remove last column (only NaN)\n",
    "\n",
    "columns_to_process = df_seven_rbq_save.columns[2:]\n",
    "df_seven_rbq_save[columns_to_process] = df_seven_rbq_save[columns_to_process].applymap(validate_and_convert)\n",
    "\n",
    "df_seven_rbq_save.to_csv(\"../embeddings/seven/RBQ/rbq_responses_nonReversed.csv\", index=False)"
   ]
  },
  {
   "cell_type": "markdown",
   "id": "089269f7-9db4-4699-8b8c-9c6c9cbf4260",
   "metadata": {},
   "source": [
    "### Final Dataset"
   ]
  },
  {
   "cell_type": "code",
   "execution_count": 74,
   "id": "02d36fea-057b-48e1-a3fa-ceb2c03e45c4",
   "metadata": {},
   "outputs": [],
   "source": [
    "cols_rsq = [col for col in df_final.columns if 'NineCat_rsq' in col]\n",
    "df_final_save = df_final[cols_rsq]\n",
    "df_final_save.columns = [\"rsq{:03d}\".format(i+1) for i in range(len(cols_rsq))]\n",
    "df_final_save = df_final_save.dropna(how='all')\n",
    "df_final_save = df_final_save.drop(index=13807, axis=0).T\n",
    "df_final_save.insert(0, \"question_id\", df_final_save.index)\n",
    "df_final_save = df_final_save.reset_index(drop=True)\n",
    "items = pd.read_csv(\"../embeddings/final/RSQ/rsq_questions_text.csv\").iloc[:,:-1]\n",
    "df_final_save = items.merge(df_final_save, on=\"question_id\")\n",
    "\n",
    "columns_to_process = df_final_save.columns[2:]\n",
    "df_final_save[columns_to_process] = df_final_save[columns_to_process].applymap(validate_and_convert)\n",
    "\n",
    "df_final_save.to_csv(\"../embeddings/final/RSQ/rsq_responses_nonReversed.csv\", index=False)"
   ]
  }
 ],
 "metadata": {
  "kernelspec": {
   "display_name": "Python 3 (ipykernel)",
   "language": "python",
   "name": "python3"
  },
  "language_info": {
   "codemirror_mode": {
    "name": "ipython",
    "version": 3
   },
   "file_extension": ".py",
   "mimetype": "text/x-python",
   "name": "python",
   "nbconvert_exporter": "python",
   "pygments_lexer": "ipython3",
   "version": "3.10.9"
  }
 },
 "nbformat": 4,
 "nbformat_minor": 5
}
